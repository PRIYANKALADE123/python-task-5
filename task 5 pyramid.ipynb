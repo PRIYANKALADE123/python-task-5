{
 "cells": [
  {
   "cell_type": "code",
   "execution_count": 1,
   "id": "1eed9fbd-6d1f-4396-acf3-147cfe7600dd",
   "metadata": {},
   "outputs": [
    {
     "name": "stdout",
     "output_type": "stream",
     "text": [
      "         *\n",
      "        * *\n",
      "       * * *\n",
      "      * * * *\n",
      "     * * * * *\n",
      "    * * * * * *\n",
      "   * * * * * * *\n",
      "  * * * * * * * *\n",
      " * * * * * * * * *\n",
      "* * * * * * * * * *\n"
     ]
    }
   ],
   "source": [
    "def print_pyramid(n):\n",
    "    for i in range(n):\n",
    "        print(' ' * (n - i - 1), end='')\n",
    "        for j in range(2 * i +   1):\n",
    "            if j % 2 == 0:\n",
    "                print('*', end='')\n",
    "            else:\n",
    "                print(' ', end='')\n",
    "        print()\n",
    "print_pyramid(10)\n"
   ]
  },
  {
   "cell_type": "code",
   "execution_count": null,
   "id": "534bc73f-2266-49db-8320-6dfc74c47324",
   "metadata": {},
   "outputs": [],
   "source": []
  },
  {
   "cell_type": "code",
   "execution_count": null,
   "id": "9f782e68-f998-4240-a375-dfb50729bb4b",
   "metadata": {},
   "outputs": [],
   "source": []
  },
  {
   "cell_type": "code",
   "execution_count": 2,
   "id": "95d8dfb7-a17b-4adc-809c-0f8685fb084e",
   "metadata": {},
   "outputs": [
    {
     "name": "stdout",
     "output_type": "stream",
     "text": [
      "    *\n",
      "   ***\n",
      "  *****\n",
      " *******\n",
      "*********\n"
     ]
    }
   ],
   "source": [
    "n = 5\n",
    "\n",
    "for i in range(1, n + 1):\n",
    "    print(' ' * (n- i) + '*' * (2 * i - 1))"
   ]
  },
  {
   "cell_type": "markdown",
   "id": "b2ac925e-8382-4f33-ba02-f6b863084a07",
   "metadata": {},
   "source": [
    "## "
   ]
  }
 ],
 "metadata": {
  "kernelspec": {
   "display_name": "Python 3 (ipykernel)",
   "language": "python",
   "name": "python3"
  },
  "language_info": {
   "codemirror_mode": {
    "name": "ipython",
    "version": 3
   },
   "file_extension": ".py",
   "mimetype": "text/x-python",
   "name": "python",
   "nbconvert_exporter": "python",
   "pygments_lexer": "ipython3",
   "version": "3.12.4"
  }
 },
 "nbformat": 4,
 "nbformat_minor": 5
}
