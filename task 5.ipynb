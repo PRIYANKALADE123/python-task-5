{
 "cells": [
  {
   "cell_type": "markdown",
   "id": "fea29288-0d68-4db7-9c74-9c829a18d77c",
   "metadata": {},
   "source": [
    "# Created 10 level pyramid:"
   ]
  },
  {
   "cell_type": "code",
   "execution_count": 27,
   "id": "651b8083-bcda-4d5c-980f-5916790130fa",
   "metadata": {},
   "outputs": [
    {
     "name": "stdout",
     "output_type": "stream",
     "text": [
      "*\n",
      "**\n",
      "***\n",
      "****\n",
      "*****\n",
      "******\n",
      "*******\n",
      "********\n",
      "*********\n",
      "**********\n"
     ]
    }
   ],
   "source": [
    "a=10\n",
    "for i in range(1,a+1):\n",
    "    print(\"*\"*i)"
   ]
  },
  {
   "cell_type": "code",
   "execution_count": null,
   "id": "e7570049-2de3-462c-ab1b-86b23824334e",
   "metadata": {},
   "outputs": [],
   "source": []
  },
  {
   "cell_type": "code",
   "execution_count": null,
   "id": "1093059f-41eb-4a4a-a5dd-b1018f39276d",
   "metadata": {},
   "outputs": [],
   "source": []
  },
  {
   "cell_type": "code",
   "execution_count": 2,
   "id": "ea7c8c5b-e573-495f-acde-648fa79c7dd5",
   "metadata": {},
   "outputs": [
    {
     "name": "stdout",
     "output_type": "stream",
     "text": [
      "*\n",
      "**\n",
      "***\n",
      "****\n",
      "*****\n",
      "******\n",
      "*******\n",
      "********\n",
      "*********\n",
      "**********\n",
      "***********\n",
      "************\n",
      "*************\n",
      "**************\n",
      "***************\n",
      "****************\n",
      "*****************\n",
      "******************\n",
      "*******************\n",
      "********************\n"
     ]
    }
   ],
   "source": [
    "n = 20\n",
    "for i in range(1, n + 1):\n",
    "    print( '*' * (1 * i ))"
   ]
  },
  {
   "cell_type": "code",
   "execution_count": null,
   "id": "fc8ce191-eb6b-4c98-979c-9e2100c733ca",
   "metadata": {},
   "outputs": [],
   "source": [
    "\n",
    "\n"
   ]
  }
 ],
 "metadata": {
  "kernelspec": {
   "display_name": "Python 3 (ipykernel)",
   "language": "python",
   "name": "python3"
  },
  "language_info": {
   "codemirror_mode": {
    "name": "ipython",
    "version": 3
   },
   "file_extension": ".py",
   "mimetype": "text/x-python",
   "name": "python",
   "nbconvert_exporter": "python",
   "pygments_lexer": "ipython3",
   "version": "3.12.4"
  }
 },
 "nbformat": 4,
 "nbformat_minor": 5
}
